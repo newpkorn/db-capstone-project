{
 "cells": [
  {
   "cell_type": "markdown",
   "metadata": {},
   "source": [
    "## Task One\n",
    "In the previous exercise you created a Python environment. In the first task of this exercise, you are tasked with extending the environment to connect with your database and interact with the data it holds. \n",
    "\n",
    "Your first step is to import the connector module, enter your user details and connect with the database (Hint: you can use an alias when importing the module).\n",
    "\n",
    "This gives you access to all the functionality available from the connector API, which can be accessed through the variable named connector (or whichever alias you choose). \n",
    "\n",
    "To connect with your database, you can call the connect method of the connector class and pass in your details using the following code: $$"
   ]
  },
  {
   "cell_type": "code",
   "execution_count": 39,
   "metadata": {},
   "outputs": [],
   "source": [
    "# Import MySQL Connector/Python \n",
    "import mysql.connector as connector\n",
    "\n",
    "# Establish the connection\n",
    "connection = connector.connect(\n",
    "    user=\"root\",\n",
    "    password=\"\",\n",
    "    db=\"LittleLemonDB\"\n",
    ")\n",
    "\n",
    "# Instantiate a cursor\n",
    "cursor = connection.cursor()"
   ]
  },
  {
   "cell_type": "markdown",
   "metadata": {},
   "source": [
    "## Task two\n",
    "In this second task, you now need to query the database to show all tables within the database. \n",
    "\n",
    "Having established a connection in the first task, you need to execute a test query to ensure that there are no issues. You can do this by executing, or passing, a generic query that returns a snapshot of the database tables. \n",
    "\n",
    "You need to execute the query on the cursor using the code that follows. The cursor, as you should recall, is the bridge through which you can pass queries and return results. "
   ]
  },
  {
   "cell_type": "code",
   "execution_count": 40,
   "metadata": {},
   "outputs": [
    {
     "name": "stdout",
     "output_type": "stream",
     "text": [
      "('Bookings',)\n",
      "('Customer_Details',)\n",
      "('MenuItems',)\n",
      "('Menus',)\n",
      "('Order_Delivery_Status',)\n",
      "('Orders',)\n",
      "('ordersview',)\n",
      "('Staff_Information',)\n"
     ]
    }
   ],
   "source": [
    "# Task Two: Query the database to show all tables\n",
    "\n",
    "# Define the query to show tables\n",
    "show_tables_query = \"SHOW TABLES\"\n",
    "\n",
    "# Execute the query\n",
    "cursor.execute(show_tables_query)\n",
    "\n",
    "# Fetch all results\n",
    "results = cursor.fetchall()\n",
    "\n",
    "# Print results\n",
    "for table in results:\n",
    "    print(table)\n"
   ]
  },
  {
   "cell_type": "markdown",
   "metadata": {},
   "source": [
    "## Task 3\n",
    "## Query with table JOIN\n",
    "\n",
    "For the third and final task, Little Lemon need you to return specific details from your database. They require the full name and contact details for every customer that has placed an order greater than $60 for a promotional campaign. \n",
    "\n",
    "You can use the following steps to implement this functionality in your database directory:"
   ]
  },
  {
   "cell_type": "code",
   "execution_count": 41,
   "metadata": {},
   "outputs": [
    {
     "name": "stdout",
     "output_type": "stream",
     "text": [
      "('John', 'Doe', 'john.doe@email.com', 900040530, Decimal('150.00'))\n"
     ]
    }
   ],
   "source": [
    "# Define the query\n",
    "query = \"\"\"\n",
    "SELECT \n",
    "    c.FirstName,\n",
    "    c.LastName,\n",
    "    c.Email, \n",
    "    c.ContactNumber, \n",
    "    o.TotalCost\n",
    "FROM \n",
    "    Orders o\n",
    "INNER JOIN \n",
    "    Customer_Details c ON o.CustomerID = c.CustomerID\n",
    "WHERE \n",
    "    o.TotalCost > 60;\n",
    "\"\"\"\n",
    "\n",
    "# Execute the query\n",
    "cursor.execute(query)\n",
    "\n",
    "# Fetch and print results\n",
    "results = cursor.fetchall()\n",
    "for row in results:\n",
    "    print(row)\n"
   ]
  },
  {
   "cell_type": "code",
   "execution_count": 42,
   "metadata": {},
   "outputs": [],
   "source": [
    "# Close the cursor and connection\n",
    "cursor.close()\n",
    "connection.close()"
   ]
  },
  {
   "cell_type": "code",
   "execution_count": null,
   "metadata": {},
   "outputs": [],
   "source": []
  },
  {
   "cell_type": "code",
   "execution_count": null,
   "metadata": {},
   "outputs": [],
   "source": []
  },
  {
   "cell_type": "code",
   "execution_count": null,
   "metadata": {},
   "outputs": [],
   "source": []
  }
 ],
 "metadata": {
  "kernelspec": {
   "display_name": "Python 3",
   "language": "python",
   "name": "python3"
  },
  "language_info": {
   "codemirror_mode": {
    "name": "ipython",
    "version": 3
   },
   "file_extension": ".py",
   "mimetype": "text/x-python",
   "name": "python",
   "nbconvert_exporter": "python",
   "pygments_lexer": "ipython3",
   "version": "3.11.3"
  }
 },
 "nbformat": 4,
 "nbformat_minor": 2
}
